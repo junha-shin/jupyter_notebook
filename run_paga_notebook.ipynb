{
 "cells": [
  {
   "cell_type": "code",
   "execution_count": 1,
   "metadata": {},
   "outputs": [
    {
     "name": "stdout",
     "output_type": "stream",
     "text": [
      "scanpy==1.4 anndata==0.6.19 numpy==1.15.4 scipy==1.1.0 pandas==0.24.2 scikit-learn==0.20.3 statsmodels==0.10.0rc2 python-igraph==0.7.1 \n"
     ]
    }
   ],
   "source": [
    "import os\n",
    "\n",
    "import numpy as np\n",
    "import pandas as pd\n",
    "import matplotlib.pyplot as pl\n",
    "import scanpy as sc\n",
    "from matplotlib import rcParams\n",
    "import igraph\n",
    "import matplotlib\n",
    "#%matplotlib inline\n",
    "sc.settings.verbosity = 3             # verbosity: errors (0), warnings (1), info (2), hints (3)\n",
    "sc.logging.print_versions()\n",
    "\n",
    "import louvain\n",
    "\n"
   ]
  },
  {
   "cell_type": "code",
   "execution_count": 2,
   "metadata": {},
   "outputs": [],
   "source": [
    "os.chdir(\"/mnt/dv/wid/projects2/Roy-singlecell/cell_netinf/scripts/PAGA\")\n"
   ]
  },
  {
   "cell_type": "code",
   "execution_count": 3,
   "metadata": {},
   "outputs": [
    {
     "data": {
      "text/plain": [
       "AnnData object with n_obs × n_vars = 2244 × 9287 "
      ]
     },
     "execution_count": 3,
     "metadata": {},
     "output_type": "execute_result"
    }
   ],
   "source": [
    "\n",
    "test_adata = sc.read_csv('/mnt/dv/wid/projects2/Roy-singlecell/cell_netinf/data/A2S_merged_depthnorm_seqdepthfilter_noiradMEF.txt', delimiter='\\t', first_column_names=True, dtype='float32')\n",
    "\n",
    "test_adata"
   ]
  },
  {
   "cell_type": "code",
   "execution_count": 4,
   "metadata": {},
   "outputs": [],
   "source": [
    "\n",
    "# Add cell names to the obs\n",
    "# https://icb-scanpy.readthedocs-hosted.com/en/stable/basic_usage.html\n",
    "cell_names = '/mnt/dv/wid/projects2/Roy-singlecell/cell_netinf/scripts/PAGA/A2S_noiradMEF_cell_names.txt'\n",
    "cells = pd.read_csv(cell_names, header=0)\n",
    "#test_adata.obs['cell_groups'] = cells['Cell']\n",
    "test_adata.obs['cell_groups'] = cells\n",
    "\n"
   ]
  },
  {
   "cell_type": "code",
   "execution_count": 5,
   "metadata": {},
   "outputs": [
    {
     "data": {
      "text/plain": [
       "AnnData object with n_obs × n_vars = 2244 × 9287 \n",
       "    obs: 'cell_groups'"
      ]
     },
     "execution_count": 5,
     "metadata": {},
     "output_type": "execute_result"
    }
   ],
   "source": [
    "test_adata"
   ]
  },
  {
   "cell_type": "code",
   "execution_count": 6,
   "metadata": {},
   "outputs": [
    {
     "name": "stdout",
     "output_type": "stream",
     "text": [
      "computing neighbors\n",
      "    using 'X_pca' with n_pcs = 20\n",
      "    finished (0:00:08.66) --> added to `.uns['neighbors']`\n",
      "    'distances', distances for each pair of neighbors\n",
      "    'connectivities', weighted adjacency matrix\n"
     ]
    }
   ],
   "source": [
    "\n",
    "sc.tl.pca(test_adata, svd_solver='arpack')\n",
    "sc.pp.neighbors(test_adata, n_neighbors=20, n_pcs=20)\n"
   ]
  },
  {
   "cell_type": "code",
   "execution_count": 7,
   "metadata": {},
   "outputs": [
    {
     "name": "stdout",
     "output_type": "stream",
     "text": [
      "computing Diffusion Maps using n_comps=15(=n_dcs)\n",
      "    eigenvalues of transition matrix\n",
      "    [1.         0.9965634  0.9936509  0.97842586 0.9603126  0.95242673\n",
      "     0.9487978  0.9366231  0.92746395 0.9098547  0.90588206 0.8954046\n",
      "     0.884159   0.8795947  0.8755908 ]\n",
      "    finished (0:00:00.12) --> added\n",
      "    'X_diffmap', diffmap coordinates (adata.obsm)\n",
      "    'diffmap_evals', eigenvalues of transition matrix (adata.uns)\n",
      "computing neighbors\n",
      "    finished (0:00:01.45) --> added to `.uns['neighbors']`\n",
      "    'distances', distances for each pair of neighbors\n",
      "    'connectivities', weighted adjacency matrix\n"
     ]
    }
   ],
   "source": [
    "\n",
    "sc.tl.diffmap(test_adata)\n",
    "sc.pp.neighbors(test_adata, n_neighbors=10, use_rep='X_diffmap')\n"
   ]
  },
  {
   "cell_type": "code",
   "execution_count": 8,
   "metadata": {},
   "outputs": [
    {
     "name": "stdout",
     "output_type": "stream",
     "text": [
      "running Louvain clustering\n"
     ]
    },
    {
     "ename": "ModuleNotFoundError",
     "evalue": "No module named 'louvain'",
     "output_type": "error",
     "traceback": [
      "\u001b[0;31m---------------------------------------------------------------------------\u001b[0m",
      "\u001b[0;31mModuleNotFoundError\u001b[0m                       Traceback (most recent call last)",
      "\u001b[0;32m<ipython-input-8-1879a89cce56>\u001b[0m in \u001b[0;36m<module>\u001b[0;34m\u001b[0m\n\u001b[1;32m      1\u001b[0m \u001b[0;34m\u001b[0m\u001b[0m\n\u001b[1;32m      2\u001b[0m \u001b[0;31m# Clustering and PAGA\u001b[0m\u001b[0;34m\u001b[0m\u001b[0;34m\u001b[0m\u001b[0;34m\u001b[0m\u001b[0m\n\u001b[0;32m----> 3\u001b[0;31m \u001b[0msc\u001b[0m\u001b[0;34m.\u001b[0m\u001b[0mtl\u001b[0m\u001b[0;34m.\u001b[0m\u001b[0mlouvain\u001b[0m\u001b[0;34m(\u001b[0m\u001b[0mtest_adata\u001b[0m\u001b[0;34m,\u001b[0m \u001b[0mresolution\u001b[0m\u001b[0;34m=\u001b[0m\u001b[0;36m1.0\u001b[0m\u001b[0;34m)\u001b[0m\u001b[0;34m\u001b[0m\u001b[0;34m\u001b[0m\u001b[0m\n\u001b[0m\u001b[1;32m      4\u001b[0m \u001b[0;34m\u001b[0m\u001b[0m\n\u001b[1;32m      5\u001b[0m \u001b[0msc\u001b[0m\u001b[0;34m.\u001b[0m\u001b[0mtl\u001b[0m\u001b[0;34m.\u001b[0m\u001b[0mpaga\u001b[0m\u001b[0;34m(\u001b[0m\u001b[0mtest_adata\u001b[0m\u001b[0;34m,\u001b[0m \u001b[0mgroups\u001b[0m\u001b[0;34m=\u001b[0m\u001b[0;34m'louvain'\u001b[0m\u001b[0;34m)\u001b[0m\u001b[0;34m\u001b[0m\u001b[0;34m\u001b[0m\u001b[0m\n",
      "\u001b[0;32m~/anaconda3/lib/python3.6/site-packages/scanpy/tools/_louvain.py\u001b[0m in \u001b[0;36mlouvain\u001b[0;34m(adata, resolution, random_state, restrict_to, key_added, adjacency, flavor, directed, use_weights, partition_type, partition_kwargs, copy)\u001b[0m\n\u001b[1;32m    121\u001b[0m             \u001b[0mweights\u001b[0m \u001b[0;34m=\u001b[0m \u001b[0;32mNone\u001b[0m\u001b[0;34m\u001b[0m\u001b[0;34m\u001b[0m\u001b[0m\n\u001b[1;32m    122\u001b[0m         \u001b[0;32mif\u001b[0m \u001b[0mflavor\u001b[0m \u001b[0;34m==\u001b[0m \u001b[0;34m'vtraag'\u001b[0m\u001b[0;34m:\u001b[0m\u001b[0;34m\u001b[0m\u001b[0;34m\u001b[0m\u001b[0m\n\u001b[0;32m--> 123\u001b[0;31m             \u001b[0;32mimport\u001b[0m \u001b[0mlouvain\u001b[0m\u001b[0;34m\u001b[0m\u001b[0;34m\u001b[0m\u001b[0m\n\u001b[0m\u001b[1;32m    124\u001b[0m             \u001b[0;32mif\u001b[0m \u001b[0mpartition_kwargs\u001b[0m \u001b[0;32mis\u001b[0m \u001b[0;32mNone\u001b[0m\u001b[0;34m:\u001b[0m\u001b[0;34m\u001b[0m\u001b[0;34m\u001b[0m\u001b[0m\n\u001b[1;32m    125\u001b[0m                 \u001b[0mpartition_kwargs\u001b[0m \u001b[0;34m=\u001b[0m \u001b[0;34m{\u001b[0m\u001b[0;34m}\u001b[0m\u001b[0;34m\u001b[0m\u001b[0;34m\u001b[0m\u001b[0m\n",
      "\u001b[0;31mModuleNotFoundError\u001b[0m: No module named 'louvain'"
     ]
    }
   ],
   "source": [
    "\n",
    "# Clustering and PAGA\n",
    "sc.tl.louvain(test_adata, resolution=1.0)\n",
    "\n",
    "sc.tl.paga(test_adata, groups='louvain')\n",
    "\n",
    "#sc.pl.paga(test_adata, color=['Nrl'])\n",
    "\n",
    "test_adata.obs['louvain'].cat.categories\n",
    "test_adata.obs['louvain_anno'] = test_adata.obs['louvain']\n",
    "\n"
   ]
  },
  {
   "cell_type": "code",
   "execution_count": 13,
   "metadata": {},
   "outputs": [
    {
     "ename": "SyntaxError",
     "evalue": "invalid syntax (<ipython-input-13-3778c32ba68a>, line 1)",
     "output_type": "error",
     "traceback": [
      "\u001b[0;36m  File \u001b[0;32m\"<ipython-input-13-3778c32ba68a>\"\u001b[0;36m, line \u001b[0;32m1\u001b[0m\n\u001b[0;31m    which python3\u001b[0m\n\u001b[0m                ^\u001b[0m\n\u001b[0;31mSyntaxError\u001b[0m\u001b[0;31m:\u001b[0m invalid syntax\n"
     ]
    }
   ],
   "source": [
    "which python3"
   ]
  },
  {
   "cell_type": "code",
   "execution_count": null,
   "metadata": {},
   "outputs": [],
   "source": []
  },
  {
   "cell_type": "code",
   "execution_count": null,
   "metadata": {},
   "outputs": [],
   "source": []
  },
  {
   "cell_type": "code",
   "execution_count": null,
   "metadata": {},
   "outputs": [],
   "source": []
  }
 ],
 "metadata": {
  "kernelspec": {
   "display_name": "Python 3",
   "language": "python",
   "name": "python3"
  },
  "language_info": {
   "codemirror_mode": {
    "name": "ipython",
    "version": 3
   },
   "file_extension": ".py",
   "mimetype": "text/x-python",
   "name": "python",
   "nbconvert_exporter": "python",
   "pygments_lexer": "ipython3",
   "version": "3.6.7"
  }
 },
 "nbformat": 4,
 "nbformat_minor": 2
}
